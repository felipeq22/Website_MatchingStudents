{
 "cells": [
  {
   "cell_type": "code",
   "execution_count": null,
   "id": "132e3043",
   "metadata": {},
   "outputs": [],
   "source": [
    "import pandas as pd\n",
    "import sqlite3"
   ]
  },
  {
   "cell_type": "code",
   "execution_count": null,
   "id": "8180628d",
   "metadata": {},
   "outputs": [],
   "source": [
    "#load csv\n",
    "\n",
    "\n",
    "course = pd.read_csv(\"course.csv\")\n",
    "day = pd.read_csv(\"day.csv\")\n",
    "elective_capacity = pd.read_csv(\"elective_capacity.csv\")\n",
    "elective_preference = pd.read_csv(\"elective_preference.csv\")\n",
    "lab_time = pd.read_csv(\"lab_time.csv\")\n",
    "pre_lab_ele_man = pd.read_csv(\"pre_lab_ele_man.csv\")\n",
    "program = pd.read_csv(\"program.csv\")\n",
    "student = pd.read_csv(\"student.csv\")\n",
    "theory_time = pd.read_csv(\"theory_time.csv\")\n"
   ]
  },
  {
   "cell_type": "code",
   "execution_count": null,
   "id": "06f77589",
   "metadata": {},
   "outputs": [],
   "source": [
    "#make database\n",
    "\n",
    "# Create a connection to the database (or create it if it doesn't exist)\n",
    "conn = sqlite3.connect(\"student_matching.db\")\n",
    "\n",
    "# Save each DataFrame to the database as a table\n",
    "course.to_sql(\"course\", conn, if_exists=\"replace\", index=False)\n",
    "day.to_sql(\"day\", conn, if_exists=\"replace\", index=False)\n",
    "elective_capacity.to_sql(\"elective_capacity\", conn, if_exists=\"replace\", index=False)\n",
    "elective_preference.to_sql(\"elective_preference\", conn, if_exists=\"replace\", index=False)\n",
    "lab_time.to_sql(\"lab_time\", conn, if_exists=\"replace\", index=False)\n",
    "pre_lab_ele_man.to_sql(\"pre_lab_ele_man\", conn, if_exists=\"replace\", index=False)\n",
    "program.to_sql(\"program\", conn, if_exists=\"replace\", index=False)\n",
    "student.to_sql(\"student\", conn, if_exists=\"replace\", index=False)\n",
    "theory.to_sql(\"theory\", conn, if_exists=\"replace\", index=False)\n",
    "\n",
    "conn.commit()\n"
   ]
  },
  {
   "cell_type": "code",
   "execution_count": null,
   "id": "7e06c019",
   "metadata": {},
   "outputs": [],
   "source": [
    "#load data for elective course matching\n",
    "\n",
    "def load_elective_matching_data():\n",
    "    \"\"\"\n",
    "    Load data for elective course matching from the SQLite database.\n",
    "    \"\"\"\n",
    "    conn = sqlite3.connect('student_matching.db')\n",
    "\n",
    "    course_data = pd.read_sql_query(\"SELECT * FROM course\", conn)\n",
    "    student_data = pd.read_sql_query(\"SELECT * FROM student\", conn)\n",
    "    elective_capacity_data = pd.read_sql_query(\"SELECT * FROM elective_capacity\", conn)\n",
    "    elective_preference_data = pd.read_sql_query(\"SELECT * FROM elective_preference\", conn)\n",
    "\n",
    "    # Clean up whitespace\n",
    "    for df in [course_data, student_data, elective_capacity_data, elective_preference_data]:\n",
    "        df.columns = df.columns.str.strip()\n",
    "        for col in df.select_dtypes(include=['object']).columns:\n",
    "            df[col] = df[col].str.strip()\n",
    "\n",
    "    conn.close()\n",
    "    return course_data, student_data, elective_capacity_data, elective_preference_data\n"
   ]
  },
  {
   "cell_type": "code",
   "execution_count": null,
   "id": "d8bbf3c3",
   "metadata": {},
   "outputs": [],
   "source": [
    "#load data for lab course matching\n",
    "\n",
    "def load_lab_matching_data():\n",
    "    \"\"\"\n",
    "    Load data for lab matching optimization from the SQLite database.\n",
    "    \"\"\"\n",
    "    conn = sqlite3.connect('student_matching.db')\n",
    "\n",
    "    student_course_matching = pd.read_sql_query(\"SELECT * FROM student_course_matching\", conn)\n",
    "    lab_time_data = pd.read_sql_query(\"SELECT * FROM lab_time\", conn)\n",
    "    day_data = pd.read_sql_query(\"SELECT * FROM day\", conn)\n",
    "    pre_lab_ele_man_data = pd.read_sql_query(\"SELECT * FROM pre_lab_ele_man\", conn)\n",
    "    theory_time_data = pd.read_sql_query(\"SELECT * FROM theory_time\", conn)\n",
    "    course_data = pd.read_sql_query(\"SELECT * FROM course\", conn)\n",
    "\n",
    "    # Clean up whitespace\n",
    "    for df in [student_course_matching, lab_time_data, day_data,\n",
    "               pre_lab_ele_man_data, theory_time_data, course_data]:\n",
    "        df.columns = df.columns.str.strip()\n",
    "        for col in df.select_dtypes(include=['object']).columns:\n",
    "            df[col] = df[col].str.strip()\n",
    "\n",
    "    # Map day IDs to day names\n",
    "    day_mapping = dict(zip(day_data['id_day'], day_data['day']))\n",
    "\n",
    "    conn.close()\n",
    "    return (student_course_matching, lab_time_data, day_mapping,\n",
    "            pre_lab_ele_man_data, theory_time_data, course_data)\n"
   ]
  }
 ],
 "metadata": {
  "kernelspec": {
   "display_name": "dsa",
   "language": "python",
   "name": "python3"
  },
  "language_info": {
   "codemirror_mode": {
    "name": "ipython",
    "version": 3
   },
   "file_extension": ".py",
   "mimetype": "text/x-python",
   "name": "python",
   "nbconvert_exporter": "python",
   "pygments_lexer": "ipython3",
   "version": "3.11.11"
  }
 },
 "nbformat": 4,
 "nbformat_minor": 5
}
